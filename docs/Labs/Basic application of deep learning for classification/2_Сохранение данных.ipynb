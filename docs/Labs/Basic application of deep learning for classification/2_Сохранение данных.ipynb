{
 "cells": [
  {
   "cell_type": "code",
   "execution_count": 1,
   "metadata": {},
   "outputs": [],
   "source": [
    "import os"
   ]
  },
  {
   "cell_type": "markdown",
   "metadata": {},
   "source": [
    "#### Пример использования __```convert_data```__"
   ]
  },
  {
   "cell_type": "code",
   "execution_count": 5,
   "metadata": {},
   "outputs": [
    {
     "data": {
      "application/vnd.jupyter.widget-view+json": {
       "model_id": "e216626009154c35b4cbe75982ae61b7",
       "version_major": 2,
       "version_minor": 0
      },
      "text/plain": [
       "Folders:   0%|          | 0/4 [00:00<?, ?it/s]"
      ]
     },
     "metadata": {},
     "output_type": "display_data"
    },
    {
     "data": {
      "application/vnd.jupyter.widget-view+json": {
       "model_id": "735a0188c47d4fe58d64d83062b4a8e7",
       "version_major": 2,
       "version_minor": 0
      },
      "text/plain": [
       "Files:   0%|          | 0/1 [00:00<?, ?it/s]"
      ]
     },
     "metadata": {},
     "output_type": "display_data"
    },
    {
     "data": {
      "application/vnd.jupyter.widget-view+json": {
       "model_id": "9c48f41810a64fce8a6e55eac7aba3ba",
       "version_major": 2,
       "version_minor": 0
      },
      "text/plain": [
       "Frames:   0%|          | 0/300 [00:00<?, ?it/s]"
      ]
     },
     "metadata": {},
     "output_type": "display_data"
    },
    {
     "data": {
      "application/vnd.jupyter.widget-view+json": {
       "model_id": "01bc3f91e53b41e3a73b059fab8c55dc",
       "version_major": 2,
       "version_minor": 0
      },
      "text/plain": [
       "Files:   0%|          | 0/1 [00:00<?, ?it/s]"
      ]
     },
     "metadata": {},
     "output_type": "display_data"
    },
    {
     "data": {
      "application/vnd.jupyter.widget-view+json": {
       "model_id": "bbf693841305444dbd2ab5dea00bdb0a",
       "version_major": 2,
       "version_minor": 0
      },
      "text/plain": [
       "Frames:   0%|          | 0/64 [00:00<?, ?it/s]"
      ]
     },
     "metadata": {},
     "output_type": "display_data"
    },
    {
     "data": {
      "application/vnd.jupyter.widget-view+json": {
       "model_id": "3f2646c56ce94871b4a897896003f77f",
       "version_major": 2,
       "version_minor": 0
      },
      "text/plain": [
       "Files:   0%|          | 0/2 [00:00<?, ?it/s]"
      ]
     },
     "metadata": {},
     "output_type": "display_data"
    },
    {
     "data": {
      "application/vnd.jupyter.widget-view+json": {
       "model_id": "4e79af315e744270aa22bab32d569d19",
       "version_major": 2,
       "version_minor": 0
      },
      "text/plain": [
       "Frames:   0%|          | 0/8 [00:00<?, ?it/s]"
      ]
     },
     "metadata": {},
     "output_type": "display_data"
    },
    {
     "data": {
      "application/vnd.jupyter.widget-view+json": {
       "model_id": "aaff22b42be641ec9c46f23d25b3b1e7",
       "version_major": 2,
       "version_minor": 0
      },
      "text/plain": [
       "Frames:   0%|          | 0/64 [00:00<?, ?it/s]"
      ]
     },
     "metadata": {},
     "output_type": "display_data"
    },
    {
     "data": {
      "application/vnd.jupyter.widget-view+json": {
       "model_id": "52dbf7a1bfea4aca9619bc277e007426",
       "version_major": 2,
       "version_minor": 0
      },
      "text/plain": [
       "Files:   0%|          | 0/5 [00:00<?, ?it/s]"
      ]
     },
     "metadata": {},
     "output_type": "display_data"
    },
    {
     "data": {
      "application/vnd.jupyter.widget-view+json": {
       "model_id": "66f1e805533a476b8f2284e3b58689f4",
       "version_major": 2,
       "version_minor": 0
      },
      "text/plain": [
       "Frames:   0%|          | 0/1024 [00:00<?, ?it/s]"
      ]
     },
     "metadata": {},
     "output_type": "display_data"
    },
    {
     "data": {
      "application/vnd.jupyter.widget-view+json": {
       "model_id": "61ebf4670f5e4e359dd583bb9d85df20",
       "version_major": 2,
       "version_minor": 0
      },
      "text/plain": [
       "Frames:   0%|          | 0/1024 [00:00<?, ?it/s]"
      ]
     },
     "metadata": {},
     "output_type": "display_data"
    },
    {
     "data": {
      "application/vnd.jupyter.widget-view+json": {
       "model_id": "529beec687994affbe81b5397b3ebcd3",
       "version_major": 2,
       "version_minor": 0
      },
      "text/plain": [
       "Frames:   0%|          | 0/1024 [00:00<?, ?it/s]"
      ]
     },
     "metadata": {},
     "output_type": "display_data"
    },
    {
     "data": {
      "application/vnd.jupyter.widget-view+json": {
       "model_id": "950eef78c2b643b68425b4e51d22ca50",
       "version_major": 2,
       "version_minor": 0
      },
      "text/plain": [
       "Frames:   0%|          | 0/1024 [00:00<?, ?it/s]"
      ]
     },
     "metadata": {},
     "output_type": "display_data"
    },
    {
     "data": {
      "application/vnd.jupyter.widget-view+json": {
       "model_id": "52570ea13369401ebdc1856ba993f787",
       "version_major": 2,
       "version_minor": 0
      },
      "text/plain": [
       "Frames:   0%|          | 0/1024 [00:00<?, ?it/s]"
      ]
     },
     "metadata": {},
     "output_type": "display_data"
    },
    {
     "name": "stdout",
     "output_type": "stream",
     "text": [
      "====================ВЫПОЛНЕНО====================\n"
     ]
    }
   ],
   "source": [
    "from assets.dataset.raw_to_npy import convert_data\n",
    "\n",
    "\n",
    "data_assignment = 'train';\n",
    "raw_data_path = os.path.join('..', '..', 'FMCW_Data', 'rawdata');\n",
    "dataset_directory = os.path.join('..', '..', 'FMCW_Data', 'adcdata');\n",
    "dataset_directory_df = convert_data(raw_data_path, dataset_directory, data_assignment);"
   ]
  },
  {
   "cell_type": "code",
   "execution_count": 4,
   "metadata": {},
   "outputs": [
    {
     "data": {
      "text/html": [
       "<div>\n",
       "<style scoped>\n",
       "    .dataframe tbody tr th:only-of-type {\n",
       "        vertical-align: middle;\n",
       "    }\n",
       "\n",
       "    .dataframe tbody tr th {\n",
       "        vertical-align: top;\n",
       "    }\n",
       "\n",
       "    .dataframe thead th {\n",
       "        text-align: right;\n",
       "    }\n",
       "</style>\n",
       "<table border=\"1\" class=\"dataframe\">\n",
       "  <thead>\n",
       "    <tr style=\"text-align: right;\">\n",
       "      <th></th>\n",
       "      <th>id</th>\n",
       "      <th>data_paths</th>\n",
       "      <th>classes_name</th>\n",
       "    </tr>\n",
       "  </thead>\n",
       "  <tbody>\n",
       "    <tr>\n",
       "      <th>0</th>\n",
       "      <td>0</td>\n",
       "      <td>..\\..\\FMCW_Data\\adcdata\\train\\circle</td>\n",
       "      <td>circle</td>\n",
       "    </tr>\n",
       "    <tr>\n",
       "      <th>1</th>\n",
       "      <td>1</td>\n",
       "      <td>..\\..\\FMCW_Data\\adcdata\\train\\door_1</td>\n",
       "      <td>door_1</td>\n",
       "    </tr>\n",
       "    <tr>\n",
       "      <th>2</th>\n",
       "      <td>2</td>\n",
       "      <td>..\\..\\FMCW_Data\\adcdata\\train\\none_target</td>\n",
       "      <td>none_target</td>\n",
       "    </tr>\n",
       "    <tr>\n",
       "      <th>3</th>\n",
       "      <td>3</td>\n",
       "      <td>..\\..\\FMCW_Data\\adcdata\\train\\people</td>\n",
       "      <td>people</td>\n",
       "    </tr>\n",
       "  </tbody>\n",
       "</table>\n",
       "</div>"
      ],
      "text/plain": [
       "   id                                 data_paths classes_name\n",
       "0   0       ..\\..\\FMCW_Data\\adcdata\\train\\circle       circle\n",
       "1   1       ..\\..\\FMCW_Data\\adcdata\\train\\door_1       door_1\n",
       "2   2  ..\\..\\FMCW_Data\\adcdata\\train\\none_target  none_target\n",
       "3   3       ..\\..\\FMCW_Data\\adcdata\\train\\people       people"
      ]
     },
     "execution_count": 4,
     "metadata": {},
     "output_type": "execute_result"
    }
   ],
   "source": [
    "dataset_directory_df"
   ]
  }
 ],
 "metadata": {
  "kernelspec": {
   "display_name": "Python 3 (ipykernel)",
   "language": "python",
   "name": "python3"
  },
  "language_info": {
   "codemirror_mode": {
    "name": "ipython",
    "version": 3
   },
   "file_extension": ".py",
   "mimetype": "text/x-python",
   "name": "python",
   "nbconvert_exporter": "python",
   "pygments_lexer": "ipython3",
   "version": "3.10.8 (tags/v3.10.8:aaaf517, Oct 11 2022, 16:50:30) [MSC v.1933 64 bit (AMD64)]"
  },
  "vscode": {
   "interpreter": {
    "hash": "9d5b4ede89aadfa1ca3dd34508497ecb3b7a4ed053c946eebcfc91d50e99297e"
   }
  }
 },
 "nbformat": 4,
 "nbformat_minor": 4
}
