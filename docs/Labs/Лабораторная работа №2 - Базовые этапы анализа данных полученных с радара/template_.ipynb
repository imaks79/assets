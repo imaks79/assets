{
 "cells": [
  {
   "attachments": {},
   "cell_type": "markdown",
   "metadata": {},
   "source": [
    "#### Импорт"
   ]
  },
  {
   "cell_type": "code",
   "execution_count": 1,
   "metadata": {},
   "outputs": [],
   "source": [
    "import sys\n",
    "import numpy as np\n",
    "import matplotlib.pyplot as plt"
   ]
  },
  {
   "attachments": {},
   "cell_type": "markdown",
   "metadata": {},
   "source": [
    "#### Загрузка набора инструментов"
   ]
  },
  {
   "cell_type": "code",
   "execution_count": 2,
   "metadata": {},
   "outputs": [],
   "source": [
    "try:\n",
    "    sys.path.insert(1, '../../../..');\n",
    "    from assets.dataloader.parse_lvds import Parser\n",
    "except:\n",
    "    print('Не удалось загрузить модуль с компьютера.');\n",
    "    ans = str(input('Скачать модуль из репозитория ? '));\n",
    "    if ans == 'Да' or 'Д' or 'д' or 'Yes' or 'Y' or 'y':\n",
    "        !git clone https://github.com/imaks79/assets.git\n",
    "        from assets.dataloader.parse_lvds import Parser\n",
    "    else: print('Не удалось загрузить модуль');"
   ]
  },
  {
   "attachments": {},
   "cell_type": "markdown",
   "metadata": {},
   "source": [
    "#### ```Чтение``` необработанных данных"
   ]
  },
  {
   "cell_type": "code",
   "execution_count": 4,
   "metadata": {},
   "outputs": [
    {
     "name": "stdout",
     "output_type": "stream",
     "text": [
      "Файлов доступно для чтения: ['adc_data.bin']\n"
     ]
    }
   ],
   "source": [
    "parser = Parser('data');\n",
    "print('Файлов доступно для чтения:', parser.files);"
   ]
  },
  {
   "attachments": {},
   "cell_type": "markdown",
   "metadata": {},
   "source": [
    "#### ```Организация``` необработанных данных"
   ]
  },
  {
   "cell_type": "code",
   "execution_count": 5,
   "metadata": {},
   "outputs": [
    {
     "name": "stdout",
     "output_type": "stream",
     "text": [
      "(numFrames, numChirps, numChannels, numADCSamples) = (1024, 128, 4, 256)\n"
     ]
    }
   ],
   "source": [
    "adcdata = parser.organize(file_idx = 0);\n",
    "print(f'(numFrames, numChirps, numChannels, numADCSamples) = {adcdata.shape}');"
   ]
  },
  {
   "attachments": {},
   "cell_type": "markdown",
   "metadata": {},
   "source": [
    "#### ```Создание``` набора"
   ]
  },
  {
   "cell_type": "code",
   "execution_count": 6,
   "metadata": {},
   "outputs": [],
   "source": [
    "chirp = adcdata[0, 0, 0, :];\n",
    "simple_frame = adcdata[30, :, 0, :];\n",
    "MIMO_frame = adcdata[30, :, :, :];"
   ]
  },
  {
   "attachments": {},
   "cell_type": "markdown",
   "metadata": {},
   "source": [
    "#### Сохранение данных для ```анализа```"
   ]
  },
  {
   "cell_type": "code",
   "execution_count": 7,
   "metadata": {},
   "outputs": [],
   "source": [
    "np.save('data/simple_chirp.npy', chirp);\n",
    "np.save('data/simple_frame.npy', simple_frame);\n",
    "np.save('data/MIMO_frame.npy', MIMO_frame);"
   ]
  },
  {
   "attachments": {},
   "cell_type": "markdown",
   "metadata": {},
   "source": [
    "#### SIMPLE CHIRP"
   ]
  },
  {
   "cell_type": "code",
   "execution_count": 92,
   "metadata": {},
   "outputs": [],
   "source": [
    "range_profile = np.fft.fft(chirp);"
   ]
  },
  {
   "attachments": {},
   "cell_type": "markdown",
   "metadata": {},
   "source": [
    "#### SIMPLE FRAME"
   ]
  },
  {
   "cell_type": "code",
   "execution_count": null,
   "metadata": {},
   "outputs": [],
   "source": [
    "range_plot = np.fft.fft(simple_frame, axis = 1);"
   ]
  },
  {
   "cell_type": "code",
   "execution_count": 93,
   "metadata": {},
   "outputs": [],
   "source": [
    "range_doppler = np.fft.fft(simple_frame, axis = 0);"
   ]
  },
  {
   "attachments": {},
   "cell_type": "markdown",
   "metadata": {},
   "source": [
    "#### MIMO FRAME"
   ]
  },
  {
   "cell_type": "code",
   "execution_count": 94,
   "metadata": {},
   "outputs": [],
   "source": [
    "range_plot = np.fft.fft(MIMO_frame, axis = 1);\n",
    "range_doppler = np.fft.fft(range_plot, axis = 0);\n",
    "\n",
    "num_angle_bins = 64;\n",
    "padding = ((0, 0), (0, num_angle_bins - range_doppler.shape[1]), (0, 0));\n",
    "range_azimuth = np.pad(range_doppler, padding, mode = 'constant');\n",
    "range_azimuth = np.fft.fft(range_azimuth, axis = 1);\n",
    "range_azimuth = np.log(np.abs(range_azimuth).sum(0).T);"
   ]
  }
 ],
 "metadata": {
  "kernelspec": {
   "display_name": "Python 3",
   "language": "python",
   "name": "python3"
  },
  "language_info": {
   "codemirror_mode": {
    "name": "ipython",
    "version": 3
   },
   "file_extension": ".py",
   "mimetype": "text/x-python",
   "name": "python",
   "nbconvert_exporter": "python",
   "pygments_lexer": "ipython3",
   "version": "3.10.8"
  },
  "orig_nbformat": 4,
  "vscode": {
   "interpreter": {
    "hash": "9d5b4ede89aadfa1ca3dd34508497ecb3b7a4ed053c946eebcfc91d50e99297e"
   }
  }
 },
 "nbformat": 4,
 "nbformat_minor": 2
}
