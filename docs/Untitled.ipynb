{
 "cells": [
  {
   "cell_type": "code",
   "execution_count": null,
   "id": "78475e8f-5f82-4561-8bc6-30fc9c3f1b6e",
   "metadata": {},
   "outputs": [],
   "source": [
    "range_plot = np.fft.fft(frame, axis = 2);"
   ]
  },
  {
   "cell_type": "code",
   "execution_count": null,
   "id": "74df5023-7e33-4344-ad6d-01155b23f9dc",
   "metadata": {},
   "outputs": [],
   "source": [
    "range_doppler = np.fft.fft(range_plot, axis = 0);\n",
    "range_doppler = np.fft.fftshift(range_doppler, axes = 0);"
   ]
  },
  {
   "cell_type": "code",
   "execution_count": null,
   "id": "3eeb11f1-7396-4074-94f9-ae5ea4fd5637",
   "metadata": {},
   "outputs": [],
   "source": [
    "num_angle_bins = 64;\n",
    "\n",
    "padding = ((0,0), (0,num_angle_bins-range_doppler.shape[1]), (0,0));\n",
    "range_azimuth = np.pad(range_doppler, padding, mode = 'constant');\n",
    "range_azimuth = np.fft.fft(range_azimuth, axis = 1);\n",
    "range_azimuth = range_azimuth;\n",
    "range_azimuth = np.log(np.abs(range_azimuth).sum(0).T);"
   ]
  }
 ],
 "metadata": {
  "kernelspec": {
   "display_name": "Python 3 (ipykernel)",
   "language": "python",
   "name": "python3"
  },
  "language_info": {
   "codemirror_mode": {
    "name": "ipython",
    "version": 3
   },
   "file_extension": ".py",
   "mimetype": "text/x-python",
   "name": "python",
   "nbconvert_exporter": "python",
   "pygments_lexer": "ipython3",
   "version": "3.10.8"
  }
 },
 "nbformat": 4,
 "nbformat_minor": 5
}
