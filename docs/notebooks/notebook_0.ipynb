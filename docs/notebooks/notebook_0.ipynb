{
 "cells": [
  {
   "cell_type": "markdown",
   "metadata": {},
   "source": [
    "# Пример использования"
   ]
  },
  {
   "cell_type": "markdown",
   "metadata": {},
   "source": [
    "#### __```Импорт библиотек```__\n",
    "---"
   ]
  },
  {
   "cell_type": "code",
   "execution_count": null,
   "metadata": {},
   "outputs": [],
   "source": [
    "import os\n",
    "\n",
    "import torch\n",
    "import torch.nn as nn\n",
    "import torch.optim as optim\n",
    "from torch.utils.data import DataLoader\n",
    "\n",
    "from torchvision import transforms\n",
    "\n",
    "from torchsummary import summary"
   ]
  },
  {
   "cell_type": "markdown",
   "metadata": {},
   "source": [
    "#### __```Указание путей к расположению необработанных данных и расположению нового датасета```__\n",
    "---"
   ]
  },
  {
   "cell_type": "code",
   "execution_count": null,
   "metadata": {},
   "outputs": [],
   "source": [
    "if os.getcwd() == '/content':\n",
    "    from google.colab import drive\n",
    "    drive.mount('/content/drive'); \n",
    "    \n",
    "    # Путь к необработанным данным на диске\n",
    "    data_directory = '/content/drive/MyDrive/FMCW_Radar'; \n",
    "\n",
    "else: data_directory = str(input('Задайте путь к данным с радара: '));"
   ]
  },
  {
   "cell_type": "markdown",
   "metadata": {},
   "source": [
    "#### __```Импорт набора инструментов```__\n",
    "---"
   ]
  },
  {
   "cell_type": "code",
   "execution_count": null,
   "metadata": {},
   "outputs": [],
   "source": [
    "!git clone https://github.com/imaks79/assets.git"
   ]
  },
  {
   "cell_type": "code",
   "execution_count": null,
   "metadata": {},
   "outputs": [],
   "source": [
    "from assets.nn.utils import torch_stats, torch_seed, imshow_predicts, imshow\n",
    "from assets.nn.processing import train_processing, predict_processing, accuracy, evaluate\n",
    "\n",
    "from assets.models.resnet import Resnet18_modified\n",
    "\n",
    "from assets.dataset.raw_to_npy import convert_data, get_class_names\n",
    "from assets.dataset.dataloader import MyLoader\n",
    "from assets.dataset.utils import dataset_paths_create"
   ]
  },
  {
   "cell_type": "markdown",
   "metadata": {},
   "source": [
    "#### __```Указание путей к расположению необработанных данных и расположению нового датасета```__\n",
    "---"
   ]
  },
  {
   "cell_type": "code",
   "execution_count": null,
   "metadata": {},
   "outputs": [],
   "source": [
    "data_assignment = 'train';\n",
    "raw_data_path = os.path.join(data_directory, 'rawdata');\n",
    "dataset_directory = os.path.join(data_directory, 'adcdata');"
   ]
  },
  {
   "cell_type": "markdown",
   "metadata": {},
   "source": [
    "#### __```Конвертировать .bin файлы в .npy```__\n",
    "---"
   ]
  },
  {
   "cell_type": "code",
   "execution_count": null,
   "metadata": {},
   "outputs": [],
   "source": [
    "dataset_directory_df = convert_data(raw_data_path, dataset_directory, data_assignment);"
   ]
  },
  {
   "cell_type": "markdown",
   "metadata": {},
   "source": [
    "#### __```Выбор устройства torch```__\n",
    "---"
   ]
  },
  {
   "cell_type": "code",
   "execution_count": null,
   "metadata": {},
   "outputs": [],
   "source": [
    "device, dtype, num_workers = torch_stats();\n",
    "torch_seed(seed = 42, deterministic = True);"
   ]
  },
  {
   "cell_type": "markdown",
   "metadata": {},
   "source": [
    "#### __```Создание набора преобразований```__\n",
    "---"
   ]
  },
  {
   "cell_type": "code",
   "execution_count": null,
   "metadata": {},
   "outputs": [],
   "source": [
    "train_transform =  transforms.Compose([\n",
    "        transforms.ToTensor(),\n",
    "    ]);"
   ]
  },
  {
   "cell_type": "markdown",
   "metadata": {},
   "source": [
    "#### __```Создание датасета из доступных файлов```__\n",
    "---"
   ]
  },
  {
   "cell_type": "code",
   "execution_count": null,
   "metadata": {},
   "outputs": [],
   "source": [
    "VALID_RATIO = 0.8;\n",
    "train_data_path = os.path.join(dataset_directory, 'train');\n",
    "test_data_path = os.path.join(dataset_directory, 'test');\n",
    "\n",
    "data_paths, class_to_idx, idx_to_class = dataset_paths_create(train_data_path, test_data_path, VALID_RATIO);"
   ]
  },
  {
   "cell_type": "code",
   "execution_count": null,
   "metadata": {},
   "outputs": [],
   "source": [
    "train_dataset = MyLoader(data_paths['train'], class_to_idx, train_transform);\n",
    "valid_dataset = MyLoader(data_paths['valid'], class_to_idx, train_transform);\n",
    "\n",
    "\n",
    "class_names = get_class_names(idx_to_class);\n",
    "\n",
    "print(f'Доступные классы: {class_names}');\n",
    "print(f'Число тренеровочных выборок: {len(train_dataset)}');\n",
    "print(f'Число вилидационных выборок: {len(valid_dataset)}');\n",
    "try: print('Число тестовых выборок:', {len(data_paths['test'])});\n",
    "except: print('Тестовая выборка отсутсвует.');"
   ]
  },
  {
   "cell_type": "markdown",
   "metadata": {},
   "source": [
    "#### __```Создание загрузчиков данных```__\n",
    "---"
   ]
  },
  {
   "cell_type": "code",
   "execution_count": null,
   "metadata": {},
   "outputs": [],
   "source": [
    "BATCH_SIZE = 5;\n",
    "\n",
    "if torch.cuda.is_available(): kwarg = {'generator': torch.Generator(device = 'cuda')};\n",
    "else: kwarg = {'num_workers': min(BATCH_SIZE, num_workers)};\n",
    "\n",
    "train_loader = DataLoader(train_dataset, batch_size = BATCH_SIZE, shuffle = True, **kwarg);\n",
    "valid_loader = DataLoader(valid_dataset, batch_size = BATCH_SIZE, shuffle = True, **kwarg);\n",
    "try: test_loader = DataLoader(data_paths['test'], batch_size = BATCH_SIZE, shuffle = False, **kwarg);\n",
    "except: print('Тестовая выборка отсутсвует.');"
   ]
  },
  {
   "cell_type": "markdown",
   "metadata": {},
   "source": [
    "#### __```Просмотреть созданный набор```__\n",
    "---"
   ]
  },
  {
   "cell_type": "code",
   "execution_count": null,
   "metadata": {},
   "outputs": [],
   "source": [
    "imshow((next(iter(train_loader)))[0], 1, device);"
   ]
  },
  {
   "cell_type": "markdown",
   "metadata": {},
   "source": [
    "#### __```Создание модели НС```__\n",
    "---"
   ]
  },
  {
   "cell_type": "code",
   "execution_count": null,
   "metadata": {},
   "outputs": [],
   "source": [
    "model = Resnet18_modified(input_channels = 4, n_classes = len(class_names)).to(device);"
   ]
  },
  {
   "cell_type": "markdown",
   "metadata": {},
   "source": [
    "#### __```Создание параметров обучения НС```__\n",
    "---"
   ]
  },
  {
   "cell_type": "code",
   "execution_count": null,
   "metadata": {},
   "outputs": [],
   "source": [
    "LR = 0.001;\n",
    "\n",
    "criterion = nn.CrossEntropyLoss().to(device);\n",
    "trainable_parameters = filter(lambda p: p.requires_grad, model.parameters());\n",
    "optimizer = optim.SGD(trainable_parameters, lr = LR, momentum = 0.9);"
   ]
  },
  {
   "cell_type": "markdown",
   "metadata": {},
   "source": [
    "#### __```Проверить обученность сети на начальном этапе```__\n",
    "---"
   ]
  },
  {
   "cell_type": "code",
   "execution_count": null,
   "metadata": {},
   "outputs": [],
   "source": [
    "best_epoch = 0;\n",
    "test_loss, test_acc = evaluate(model, valid_loader, criterion, accuracy, device);\n",
    "print(f'best epoch {best_epoch}: Test Loss: {test_loss:.3f} | Test Acc: {test_acc * 100:.2f}%');"
   ]
  },
  {
   "cell_type": "markdown",
   "metadata": {},
   "source": [
    "#### __```Начать обучение сети```__\n",
    "---"
   ]
  },
  {
   "cell_type": "code",
   "execution_count": null,
   "metadata": {},
   "outputs": [],
   "source": [
    "EPOCHS = 20;\n",
    "train_processing(EPOCHS, model, train_loader, valid_loader, optimizer, criterion, device);"
   ]
  },
  {
   "cell_type": "markdown",
   "metadata": {},
   "source": [
    "#### __```Проверить лучшую эпоху```__\n",
    "---"
   ]
  },
  {
   "cell_type": "code",
   "execution_count": null,
   "metadata": {},
   "outputs": [],
   "source": [
    "model.load_state_dict(torch.load('best_model.pt'));\n",
    "test_loss, test_acc = evaluate(model, valid_loader, criterion, accuracy, device);\n",
    "print(10 * '--', f'\\nbest epoch {best_epoch}: Test Loss: {test_loss:.3f} | Test Acc: {test_acc * 100:.2f}%');"
   ]
  },
  {
   "cell_type": "markdown",
   "metadata": {},
   "source": [
    "#### __```Начать тестирование сети```__\n",
    "---"
   ]
  },
  {
   "cell_type": "code",
   "execution_count": null,
   "metadata": {},
   "outputs": [],
   "source": [
    "try: data_to_imshow, predicts, truth, df = predict_processing(model, test_loader, device, class_names);\n",
    "except: print('Тестовая выборка отсутсвует.');"
   ]
  },
  {
   "cell_type": "markdown",
   "metadata": {},
   "source": [
    "#### __```Просмотреть результат тестирования сети```__\n",
    "---"
   ]
  },
  {
   "cell_type": "code",
   "execution_count": null,
   "metadata": {},
   "outputs": [],
   "source": [
    "num_batches_to_show = 1;\n",
    "try: imshow_predicts(data_to_imshow, BATCH_SIZE, num_batches_to_show, predicts, truth, device, class_names);\n",
    "except: print('Тестовая выборка отсутсвует.');"
   ]
  }
 ],
 "metadata": {
  "kernelspec": {
   "display_name": "Python 3.10.8 64-bit",
   "language": "python",
   "name": "python3"
  },
  "language_info": {
   "name": "python",
   "version": "3.10.8"
  },
  "orig_nbformat": 4,
  "vscode": {
   "interpreter": {
    "hash": "9d5b4ede89aadfa1ca3dd34508497ecb3b7a4ed053c946eebcfc91d50e99297e"
   }
  }
 },
 "nbformat": 4,
 "nbformat_minor": 2
}
