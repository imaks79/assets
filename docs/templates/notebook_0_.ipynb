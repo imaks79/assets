{
 "cells": [
  {
   "cell_type": "markdown",
   "metadata": {},
   "source": [
    "#### __```Импорт```__\n",
    "___"
   ]
  },
  {
   "cell_type": "code",
   "execution_count": 1,
   "metadata": {},
   "outputs": [],
   "source": [
    "import sys\n",
    "import numpy as np\n",
    "import matplotlib.pyplot as plt"
   ]
  },
  {
   "cell_type": "markdown",
   "metadata": {},
   "source": [
    "#### __```Загрузка набора инструментов```__\n",
    "___"
   ]
  },
  {
   "cell_type": "code",
   "execution_count": 2,
   "metadata": {},
   "outputs": [],
   "source": [
    "sys.path.insert(1, '../../../..');\n",
    "# !git clone https://github.com/imaks79/assets.git\n",
    "from assets.dataloader.parse_lvds import Parser"
   ]
  },
  {
   "cell_type": "markdown",
   "metadata": {},
   "source": [
    "#### __```Чтение необработанных данных```__\n",
    "___"
   ]
  },
  {
   "cell_type": "code",
   "execution_count": 3,
   "metadata": {},
   "outputs": [
    {
     "name": "stdout",
     "output_type": "stream",
     "text": [
      "Файлов доступно для чтения: ['adc_data.bin']\n"
     ]
    }
   ],
   "source": [
    "parser = Parser('data');\n",
    "print('Файлов доступно для чтения:', parser.files);"
   ]
  },
  {
   "cell_type": "markdown",
   "metadata": {},
   "source": [
    "#### __```Организация необработанных данных```__\n",
    "___"
   ]
  },
  {
   "cell_type": "code",
   "execution_count": 4,
   "metadata": {},
   "outputs": [
    {
     "name": "stdout",
     "output_type": "stream",
     "text": [
      "(numFrames, numChirps, numChannels, numADCSamples) = (1024, 128, 4, 256)\n"
     ]
    }
   ],
   "source": [
    "adcdata = parser.organize(file_idx = 0);\n",
    "print(f'(numFrames, numChirps, numChannels, numADCSamples) = {adcdata.shape}');"
   ]
  },
  {
   "cell_type": "markdown",
   "metadata": {},
   "source": [
    "#### __```Создание данных для анализа```__\n",
    "---"
   ]
  },
  {
   "cell_type": "code",
   "execution_count": 5,
   "metadata": {},
   "outputs": [],
   "source": [
    "chirp = adcdata[0, 0, 0, :];\n",
    "simple_frame = adcdata[30, :, 0, :];\n",
    "MIMO_frame = adcdata[30, :, :, :];"
   ]
  },
  {
   "cell_type": "markdown",
   "metadata": {},
   "source": [
    "#### __```Сохранение данных для анализа```__\n",
    "---"
   ]
  },
  {
   "cell_type": "code",
   "execution_count": 6,
   "metadata": {},
   "outputs": [],
   "source": [
    "np.save('data/simple_chirp.npy', chirp);\n",
    "np.save('data/simple_frame.npy', simple_frame);\n",
    "np.save('data/MIMO_frame.npy', MIMO_frame);"
   ]
  },
  {
   "cell_type": "markdown",
   "metadata": {},
   "source": [
    "#### __```SIMPLE CHIRP```__\n",
    "---"
   ]
  },
  {
   "cell_type": "code",
   "execution_count": 7,
   "metadata": {},
   "outputs": [
    {
     "name": "stdout",
     "output_type": "stream",
     "text": [
      "Длина сигнала составляет 256 отсчётов\n"
     ]
    }
   ],
   "source": [
    "path2file = 'data/simple_chirp.npy';\n",
    "\n",
    "simple_chirp = np.load(path2file);\n",
    "print(f'Длина сигнала составляет {len(simple_chirp)} отсчётов');"
   ]
  },
  {
   "cell_type": "code",
   "execution_count": 8,
   "metadata": {},
   "outputs": [],
   "source": [
    "range_plot = np.fft.fft(simple_chirp);"
   ]
  },
  {
   "cell_type": "markdown",
   "metadata": {},
   "source": [
    "#### __```SIMPLE FRAME```__\n",
    "---"
   ]
  },
  {
   "cell_type": "code",
   "execution_count": 9,
   "metadata": {},
   "outputs": [
    {
     "name": "stdout",
     "output_type": "stream",
     "text": [
      "Форма кадра: (128, 256)\n"
     ]
    }
   ],
   "source": [
    "path2file = 'data/simple_frame.npy';\n",
    "\n",
    "simple_frame = np.load(path2file);\n",
    "print(f'Форма кадра: {frame.shape}');"
   ]
  },
  {
   "cell_type": "code",
   "execution_count": 10,
   "metadata": {},
   "outputs": [],
   "source": [
    "range_plot = np.fft.fft(simple_frame, axis = 1);"
   ]
  },
  {
   "cell_type": "code",
   "execution_count": 11,
   "metadata": {},
   "outputs": [],
   "source": [
    "range_doppler = np.fft.fft(simple_frame, axis = 0);"
   ]
  },
  {
   "cell_type": "markdown",
   "metadata": {},
   "source": [
    "#### __```MIMO FRAME```__\n",
    "---"
   ]
  },
  {
   "cell_type": "code",
   "execution_count": 12,
   "metadata": {},
   "outputs": [
    {
     "name": "stdout",
     "output_type": "stream",
     "text": [
      "Форма кадра: (128, 4, 256)\n"
     ]
    }
   ],
   "source": [
    "path2file = 'data/MIMO_frame.npy';\n",
    "\n",
    "MIMO_frame = np.load(path2file);\n",
    "print(f'Форма кадра: {frame.shape}');"
   ]
  },
  {
   "cell_type": "code",
   "execution_count": 13,
   "metadata": {},
   "outputs": [],
   "source": [
    "range_plot = np.fft.fft(MIMO_frame, axis = 1);\n",
    "range_doppler = np.fft.fft(range_plot, axis = 0);\n",
    "\n",
    "num_angle_bins = 64;\n",
    "padding = ((0, 0), (0, num_angle_bins - range_doppler.shape[1]), (0, 0));\n",
    "range_azimuth = np.pad(range_doppler, padding, mode = 'constant');\n",
    "range_azimuth = np.fft.fft(range_azimuth, axis = 1);\n",
    "range_azimuth = np.log(np.abs(range_azimuth).sum(0).T);"
   ]
  }
 ],
 "metadata": {
  "kernelspec": {
   "display_name": "Python 3 (ipykernel)",
   "language": "python",
   "name": "python3"
  },
  "language_info": {
   "codemirror_mode": {
    "name": "ipython",
    "version": 3
   },
   "file_extension": ".py",
   "mimetype": "text/x-python",
   "name": "python",
   "nbconvert_exporter": "python",
   "pygments_lexer": "ipython3",
   "version": "3.10.8"
  },
  "vscode": {
   "interpreter": {
    "hash": "9d5b4ede89aadfa1ca3dd34508497ecb3b7a4ed053c946eebcfc91d50e99297e"
   }
  }
 },
 "nbformat": 4,
 "nbformat_minor": 4
}
