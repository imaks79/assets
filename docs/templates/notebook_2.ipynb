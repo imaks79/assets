{
 "cells": [
  {
   "cell_type": "markdown",
   "id": "b7e1c249-0420-4ffd-93a2-860d71edb06d",
   "metadata": {},
   "source": [
    "#### __```Импорт```__\n",
    "---"
   ]
  },
  {
   "cell_type": "code",
   "execution_count": 1,
   "id": "b8dc7f05-7baa-4b72-b727-cde6403a72ae",
   "metadata": {},
   "outputs": [],
   "source": [
    "import sys, os\n",
    "import numpy as np\n",
    "import matplotlib.pyplot as plt\n",
    "import pandas as pd"
   ]
  },
  {
   "cell_type": "markdown",
   "id": "6ad745ff-2539-4f41-9ea0-ea714eac5729",
   "metadata": {},
   "source": [
    "#### __```Импорт набора инструментов```__\n",
    "---"
   ]
  },
  {
   "cell_type": "code",
   "execution_count": 2,
   "id": "db08d0b0-032c-410c-8d37-c5621cb8f7d7",
   "metadata": {},
   "outputs": [],
   "source": [
    "sys.path.insert(1, '../../..');\n",
    "# !git clone https://github.com/imaks79/assets.git\n",
    "from assets.dataloader import parse_tlv\n",
    "from assets.dataloader import parse_cfg\n",
    "from assets.dataloader import setting_ports"
   ]
  },
  {
   "cell_type": "markdown",
   "id": "78e71247-ea71-43e1-ade5-4de96cde7772",
   "metadata": {},
   "source": [
    "#### __```Указание пути к файлу конфигурации```__\n",
    "---"
   ]
  },
  {
   "cell_type": "code",
   "execution_count": 3,
   "id": "3b31eaa0-2cd6-4813-b242-a2da2ee48c71",
   "metadata": {},
   "outputs": [],
   "source": [
    "cfgfilename = 'xwr68xxconfig.cfg';\n",
    "path2cfg = os.path.join('data', cfgfilename);"
   ]
  },
  {
   "cell_type": "markdown",
   "id": "cbbbd1fd-29d5-4795-845d-dbc870997687",
   "metadata": {},
   "source": [
    "#### __```Чтение файла конфигурации```__\n",
    "---"
   ]
  },
  {
   "cell_type": "code",
   "execution_count": 4,
   "id": "652a8b87-10b8-436b-91ef-a38fda812f6d",
   "metadata": {},
   "outputs": [
    {
     "name": "stdout",
     "output_type": "stream",
     "text": [
      "numDopplerBins            16.000000\n",
      "numRangeBins             256.000000\n",
      "rangeResolutionMeters      0.047018\n",
      "rangeIdxToMeters           0.041141\n",
      "dopplerResolutionMps       0.125690\n",
      "maxRange                   9.478929\n",
      "maxVelocity                1.005518\n",
      "numTxAnt                   2.000000\n",
      "numRxAnt                   4.000000\n",
      "dtype: float64\n"
     ]
    }
   ],
   "source": [
    "configParameters = parse_cfg.parseConfigFile(path2cfg, numRxAnt = 4, numTxAnt = 2);\n",
    "print(pd.Series(configParameters));"
   ]
  },
  {
   "cell_type": "markdown",
   "id": "7f4e591c-0974-45f1-8de8-5dc2fb4b03d9",
   "metadata": {},
   "source": [
    "#### __```Указание пути к файлу с данными```__\n",
    "---"
   ]
  },
  {
   "cell_type": "code",
   "execution_count": 5,
   "id": "b6af063f-e672-43f9-89fd-1250195a4bcb",
   "metadata": {},
   "outputs": [],
   "source": [
    "datafilename = 'xwr68xx_processed_stream.dat';\n",
    "Dataport = os.path.join('data', datafilename);\n",
    "# CLIport, Dataport = setting_ports.serialConfig(configFileName); "
   ]
  },
  {
   "cell_type": "markdown",
   "id": "d0c0f73a-cff8-40cb-a47b-05233176e872",
   "metadata": {},
   "source": [
    "#### __```Чтение файла с данными```__\n",
    "---"
   ]
  },
  {
   "cell_type": "code",
   "execution_count": 6,
   "id": "d2fcf0d3-a2d4-4e7c-8960-7f34ef465fe4",
   "metadata": {},
   "outputs": [
    {
     "name": "stdout",
     "output_type": "stream",
     "text": [
      "magicNumber       [2, 1, 4, 3, 6, 5, 8, 7]\n",
      "version                            3000006\n",
      "totalPacketLen                         736\n",
      "platform                             a6843\n",
      "frameNumber                           5913\n",
      "timeCpuCycles                   -124291778\n",
      "numDetectedObj                           7\n",
      "numTLVs                                  3\n",
      "subFrameNumber                           0\n",
      "dtype: object\n"
     ]
    }
   ],
   "source": [
    "frameData, Header, dataOK = parse_tlv.readAndParseTLVData(Dataport, configParameters);\n",
    "print(pd.Series(Header));"
   ]
  }
 ],
 "metadata": {
  "kernelspec": {
   "display_name": "Python 3 (ipykernel)",
   "language": "python",
   "name": "python3"
  },
  "language_info": {
   "codemirror_mode": {
    "name": "ipython",
    "version": 3
   },
   "file_extension": ".py",
   "mimetype": "text/x-python",
   "name": "python",
   "nbconvert_exporter": "python",
   "pygments_lexer": "ipython3",
   "version": "3.10.8"
  }
 },
 "nbformat": 4,
 "nbformat_minor": 5
}
